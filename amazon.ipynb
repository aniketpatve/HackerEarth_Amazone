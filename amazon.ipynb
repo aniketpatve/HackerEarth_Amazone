{
 "cells": [
  {
   "cell_type": "markdown",
   "metadata": {},
   "source": [
    "---\n",
    "\n",
    "_You are currently looking at **version 1.1** of this notebook. To download notebooks and datafiles, as well as get help on Jupyter notebooks in the Coursera platform, visit the [Jupyter Notebook FAQ](https://www.coursera.org/learn/python-machine-learning/resources/bANLa) course resource._\n",
    "\n",
    "---"
   ]
  },
  {
   "cell_type": "raw",
   "metadata": {},
   "source": [
    "Predict the Category of the Customer\n",
    "Problem Statement\n",
    "We all know that when we visit an e-commerce or TV series website or even YouTube we see a separate suggestion box, where in they show some content which you might like. These are mainly based on the content that you have consumed on their website previously. These are called as Recommendation engine. \n",
    "\n",
    "Now consider you have been running a start up since last one year and now you have been able to gather some customer data and you want to build a recommendation engine. Based on certain features you have to cluster the customers into two different groups so that you can recommend the correct products based on the customer’s cluster.\n",
    "\n",
    "Challenge\n",
    "Your work is to build a predictive model to predict the category of the customer. You have to predict the column : “customer_category”\n",
    "You need to upload a presentation proposal addressing the following questions:\n",
    "What are the pros & cons of recommendation by this approach?\n",
    "\n",
    "Propose an architecture that will work more efficiently when building a recommendation engine for an e-commerce platform\n",
    "\n",
    "Data Description\n",
    "Data Files:\n",
    "\n",
    "Train.csv : 10378 x 10\n",
    "\n",
    "Test.csv : 7161 x 9\n",
    "\n",
    "Results.csv : 7161 x 2\n",
    "\n",
    "Data Description:\n",
    "\n",
    "Column\tDescription\n",
    "customer_visit_score\ta score based on how regularly the customer visits the website\n",
    "customer_product_search_score\tquality or price range of product that the customer searches for.\n",
    "For ex: a customer searching for a laptop will have more weightage than someone looking for a book\n",
    "customer_ctr_score\thow many of the searched links does the customer click\n",
    "customer_stay_score\ta score based on the time spent on an avg. by the customer\n",
    "customer_frequency_score\ta score based on how many times in a day the customer visit the website\n",
    "customer_product_variation_score\ta score based on how many varities of products does a customer search for, for ex. electronics, apparels, etc.\n",
    "customer_order_score\tScore based on the no. of orders that has been succesfully delivered and not returned\n",
    "customer_affinity_score\tan internal overall score calculated which signifies the affinity of the customer towards the website\n",
    "customer_category\tthe cluster/group to which the customer should belong to\n",
    "customer_active_segment \tthe categorization of the customers based on their activity\n",
    "X_1\tAnonymized feature based on loyalty of the customer\n",
    "Submission Format \n",
    "customer_id\n",
    "\n",
    "customer_category\n",
    "csid_10739\t22\n",
    "csid_10740\t11\n",
    "csid_10741\t22\n",
    "csid_10742\t11\n",
    "csid_10743\t.\n",
    ".\t.\n",
    ".\t.\n",
    ".\t.\n",
    "csid_17898\n",
    "\n",
    "22\n",
    "Instructions\n",
    "Upload your predictions in  a .csv format under ‘Upload your Prediction File’\n",
    "\n",
    "Upload your source code along with the presentation in a .zip format under ‘Upload your Source File’\n",
    "\n",
    "Evaluation Criteria\n",
    "Please note the evaluation metric for score generation will be macro precision-score\n",
    "\\(score = precision\\_score(actual\\_values, predicted\\_values, average='macro')\\)\n",
    "\n",
    "Evaluation metric for the source code & presentation submitted is as follows:\n",
    "\n",
    "Approach: How well is the problem statement understood and attended to?\n",
    "\n",
    "Creativity: Depth of Analysis\n",
    "\n",
    "Visualisations: What features are being presented and how?\n",
    "\n",
    "Total Score (10+10+10 = 30)"
   ]
  },
  {
   "cell_type": "code",
   "execution_count": 1,
   "metadata": {},
   "outputs": [],
   "source": [
    "#%matplotlib notebook\n",
    "import numpy as np\n",
    "import pandas as pd\n",
    "#import seaborn as sns\n",
    "#import matplotlib.pyplot as plt\n",
    "#import sklearn"
   ]
  },
  {
   "cell_type": "code",
   "execution_count": 2,
   "metadata": {},
   "outputs": [],
   "source": [
    "data_train=pd.read_csv('train.csv', engine='python')\n",
    "data_test=pd.read_csv('test.csv', engine='python')\n",
    "#data_add=pd.read_csv('addresses.csv', engine='python')"
   ]
  },
  {
   "cell_type": "code",
   "execution_count": 3,
   "metadata": {},
   "outputs": [
    {
     "data": {
      "text/html": [
       "<div>\n",
       "<style scoped>\n",
       "    .dataframe tbody tr th:only-of-type {\n",
       "        vertical-align: middle;\n",
       "    }\n",
       "\n",
       "    .dataframe tbody tr th {\n",
       "        vertical-align: top;\n",
       "    }\n",
       "\n",
       "    .dataframe thead th {\n",
       "        text-align: right;\n",
       "    }\n",
       "</style>\n",
       "<table border=\"1\" class=\"dataframe\">\n",
       "  <thead>\n",
       "    <tr style=\"text-align: right;\">\n",
       "      <th></th>\n",
       "      <th>customer_id</th>\n",
       "      <th>customer_visit_score</th>\n",
       "      <th>customer_product_search_score</th>\n",
       "      <th>customer_ctr_score</th>\n",
       "      <th>customer_stay_score</th>\n",
       "      <th>customer_frequency_score</th>\n",
       "      <th>customer_product_variation_score</th>\n",
       "      <th>customer_order_score</th>\n",
       "      <th>customer_affinity_score</th>\n",
       "      <th>customer_active_segment</th>\n",
       "      <th>X1</th>\n",
       "      <th>customer_category</th>\n",
       "    </tr>\n",
       "  </thead>\n",
       "  <tbody>\n",
       "    <tr>\n",
       "      <th>0</th>\n",
       "      <td>csid_1</td>\n",
       "      <td>13.168425</td>\n",
       "      <td>9.447662</td>\n",
       "      <td>-0.070203</td>\n",
       "      <td>-0.139541</td>\n",
       "      <td>0.436956</td>\n",
       "      <td>4.705761</td>\n",
       "      <td>2.537985</td>\n",
       "      <td>7.959503</td>\n",
       "      <td>C</td>\n",
       "      <td>F</td>\n",
       "      <td>0</td>\n",
       "    </tr>\n",
       "    <tr>\n",
       "      <th>1</th>\n",
       "      <td>csid_2</td>\n",
       "      <td>17.092979</td>\n",
       "      <td>7.329056</td>\n",
       "      <td>0.153298</td>\n",
       "      <td>-0.102726</td>\n",
       "      <td>0.380340</td>\n",
       "      <td>4.205138</td>\n",
       "      <td>4.193444</td>\n",
       "      <td>17.517381</td>\n",
       "      <td>C</td>\n",
       "      <td>A</td>\n",
       "      <td>0</td>\n",
       "    </tr>\n",
       "    <tr>\n",
       "      <th>2</th>\n",
       "      <td>csid_3</td>\n",
       "      <td>17.505334</td>\n",
       "      <td>5.143676</td>\n",
       "      <td>0.106709</td>\n",
       "      <td>0.262834</td>\n",
       "      <td>0.417648</td>\n",
       "      <td>4.479070</td>\n",
       "      <td>3.878971</td>\n",
       "      <td>12.595155</td>\n",
       "      <td>C</td>\n",
       "      <td>BA</td>\n",
       "      <td>0</td>\n",
       "    </tr>\n",
       "    <tr>\n",
       "      <th>3</th>\n",
       "      <td>csid_4</td>\n",
       "      <td>31.423381</td>\n",
       "      <td>4.917740</td>\n",
       "      <td>-0.020226</td>\n",
       "      <td>-0.100526</td>\n",
       "      <td>0.778130</td>\n",
       "      <td>5.055535</td>\n",
       "      <td>2.708940</td>\n",
       "      <td>4.795073</td>\n",
       "      <td>AA</td>\n",
       "      <td>F</td>\n",
       "      <td>0</td>\n",
       "    </tr>\n",
       "    <tr>\n",
       "      <th>4</th>\n",
       "      <td>csid_5</td>\n",
       "      <td>11.909502</td>\n",
       "      <td>4.237073</td>\n",
       "      <td>0.187178</td>\n",
       "      <td>0.172891</td>\n",
       "      <td>0.162067</td>\n",
       "      <td>3.445247</td>\n",
       "      <td>3.677360</td>\n",
       "      <td>56.636326</td>\n",
       "      <td>C</td>\n",
       "      <td>AA</td>\n",
       "      <td>0</td>\n",
       "    </tr>\n",
       "    <tr>\n",
       "      <th>...</th>\n",
       "      <td>...</td>\n",
       "      <td>...</td>\n",
       "      <td>...</td>\n",
       "      <td>...</td>\n",
       "      <td>...</td>\n",
       "      <td>...</td>\n",
       "      <td>...</td>\n",
       "      <td>...</td>\n",
       "      <td>...</td>\n",
       "      <td>...</td>\n",
       "      <td>...</td>\n",
       "      <td>...</td>\n",
       "    </tr>\n",
       "    <tr>\n",
       "      <th>10733</th>\n",
       "      <td>csid_10734</td>\n",
       "      <td>23.672615</td>\n",
       "      <td>6.701514</td>\n",
       "      <td>0.092879</td>\n",
       "      <td>-0.017332</td>\n",
       "      <td>1.210397</td>\n",
       "      <td>7.003663</td>\n",
       "      <td>3.027084</td>\n",
       "      <td>1.952911</td>\n",
       "      <td>C</td>\n",
       "      <td>BA</td>\n",
       "      <td>0</td>\n",
       "    </tr>\n",
       "    <tr>\n",
       "      <th>10734</th>\n",
       "      <td>csid_10735</td>\n",
       "      <td>25.673028</td>\n",
       "      <td>6.497796</td>\n",
       "      <td>0.050216</td>\n",
       "      <td>-0.047211</td>\n",
       "      <td>0.725230</td>\n",
       "      <td>5.407507</td>\n",
       "      <td>3.104172</td>\n",
       "      <td>5.124286</td>\n",
       "      <td>C</td>\n",
       "      <td>BA</td>\n",
       "      <td>0</td>\n",
       "    </tr>\n",
       "    <tr>\n",
       "      <th>10735</th>\n",
       "      <td>csid_10736</td>\n",
       "      <td>31.676844</td>\n",
       "      <td>7.799880</td>\n",
       "      <td>0.062961</td>\n",
       "      <td>-0.032765</td>\n",
       "      <td>0.318118</td>\n",
       "      <td>5.598486</td>\n",
       "      <td>2.403051</td>\n",
       "      <td>21.864188</td>\n",
       "      <td>A</td>\n",
       "      <td>BA</td>\n",
       "      <td>0</td>\n",
       "    </tr>\n",
       "    <tr>\n",
       "      <th>10736</th>\n",
       "      <td>csid_10737</td>\n",
       "      <td>28.441780</td>\n",
       "      <td>5.588302</td>\n",
       "      <td>-0.093931</td>\n",
       "      <td>0.081586</td>\n",
       "      <td>0.132177</td>\n",
       "      <td>3.616492</td>\n",
       "      <td>4.972243</td>\n",
       "      <td>86.969977</td>\n",
       "      <td>B</td>\n",
       "      <td>AA</td>\n",
       "      <td>0</td>\n",
       "    </tr>\n",
       "    <tr>\n",
       "      <th>10737</th>\n",
       "      <td>csid_10738</td>\n",
       "      <td>20.663035</td>\n",
       "      <td>4.478301</td>\n",
       "      <td>0.253165</td>\n",
       "      <td>0.381349</td>\n",
       "      <td>0.504904</td>\n",
       "      <td>4.181092</td>\n",
       "      <td>4.469215</td>\n",
       "      <td>27.770899</td>\n",
       "      <td>B</td>\n",
       "      <td>A</td>\n",
       "      <td>0</td>\n",
       "    </tr>\n",
       "  </tbody>\n",
       "</table>\n",
       "<p>10738 rows × 12 columns</p>\n",
       "</div>"
      ],
      "text/plain": [
       "      customer_id  customer_visit_score  customer_product_search_score  \\\n",
       "0          csid_1             13.168425                       9.447662   \n",
       "1          csid_2             17.092979                       7.329056   \n",
       "2          csid_3             17.505334                       5.143676   \n",
       "3          csid_4             31.423381                       4.917740   \n",
       "4          csid_5             11.909502                       4.237073   \n",
       "...           ...                   ...                            ...   \n",
       "10733  csid_10734             23.672615                       6.701514   \n",
       "10734  csid_10735             25.673028                       6.497796   \n",
       "10735  csid_10736             31.676844                       7.799880   \n",
       "10736  csid_10737             28.441780                       5.588302   \n",
       "10737  csid_10738             20.663035                       4.478301   \n",
       "\n",
       "       customer_ctr_score  customer_stay_score  customer_frequency_score  \\\n",
       "0               -0.070203            -0.139541                  0.436956   \n",
       "1                0.153298            -0.102726                  0.380340   \n",
       "2                0.106709             0.262834                  0.417648   \n",
       "3               -0.020226            -0.100526                  0.778130   \n",
       "4                0.187178             0.172891                  0.162067   \n",
       "...                   ...                  ...                       ...   \n",
       "10733            0.092879            -0.017332                  1.210397   \n",
       "10734            0.050216            -0.047211                  0.725230   \n",
       "10735            0.062961            -0.032765                  0.318118   \n",
       "10736           -0.093931             0.081586                  0.132177   \n",
       "10737            0.253165             0.381349                  0.504904   \n",
       "\n",
       "       customer_product_variation_score  customer_order_score  \\\n",
       "0                              4.705761              2.537985   \n",
       "1                              4.205138              4.193444   \n",
       "2                              4.479070              3.878971   \n",
       "3                              5.055535              2.708940   \n",
       "4                              3.445247              3.677360   \n",
       "...                                 ...                   ...   \n",
       "10733                          7.003663              3.027084   \n",
       "10734                          5.407507              3.104172   \n",
       "10735                          5.598486              2.403051   \n",
       "10736                          3.616492              4.972243   \n",
       "10737                          4.181092              4.469215   \n",
       "\n",
       "       customer_affinity_score customer_active_segment  X1  customer_category  \n",
       "0                     7.959503                       C   F                  0  \n",
       "1                    17.517381                       C   A                  0  \n",
       "2                    12.595155                       C  BA                  0  \n",
       "3                     4.795073                      AA   F                  0  \n",
       "4                    56.636326                       C  AA                  0  \n",
       "...                        ...                     ...  ..                ...  \n",
       "10733                 1.952911                       C  BA                  0  \n",
       "10734                 5.124286                       C  BA                  0  \n",
       "10735                21.864188                       A  BA                  0  \n",
       "10736                86.969977                       B  AA                  0  \n",
       "10737                27.770899                       B   A                  0  \n",
       "\n",
       "[10738 rows x 12 columns]"
      ]
     },
     "execution_count": 3,
     "metadata": {},
     "output_type": "execute_result"
    }
   ],
   "source": [
    "data_train.fillna(0,inplace=True)\n",
    "data_train\n",
    "#print(len(list(set(list(data_train['Product_id'])))+list(set(list(data_test['Product_id'])))))"
   ]
  },
  {
   "cell_type": "code",
   "execution_count": 5,
   "metadata": {},
   "outputs": [
    {
     "data": {
      "text/plain": [
       "{0, 'A', 'AA', 'B', 'C', 'D'}"
      ]
     },
     "execution_count": 5,
     "metadata": {},
     "output_type": "execute_result"
    }
   ],
   "source": [
    "set(list(data_train['customer_active_segment']))"
   ]
  },
  {
   "cell_type": "code",
   "execution_count": 6,
   "metadata": {},
   "outputs": [
    {
     "data": {
      "text/plain": [
       "{'A', 'AA', 'B', 'C', 'D', nan}"
      ]
     },
     "execution_count": 6,
     "metadata": {},
     "output_type": "execute_result"
    }
   ],
   "source": [
    "set(list(data_test['customer_active_segment']))"
   ]
  },
  {
   "cell_type": "code",
   "execution_count": 7,
   "metadata": {},
   "outputs": [
    {
     "data": {
      "text/plain": [
       "{0, 'A', 'AA', 'BA', 'E', 'F'}"
      ]
     },
     "execution_count": 7,
     "metadata": {},
     "output_type": "execute_result"
    }
   ],
   "source": [
    "set(list(data_train['X1']))"
   ]
  },
  {
   "cell_type": "code",
   "execution_count": 8,
   "metadata": {},
   "outputs": [
    {
     "data": {
      "text/plain": [
       "{'A', 'AA', 'BA', 'E', 'F', nan}"
      ]
     },
     "execution_count": 8,
     "metadata": {},
     "output_type": "execute_result"
    }
   ],
   "source": [
    "set(list(data_test['X1']))"
   ]
  },
  {
   "cell_type": "code",
   "execution_count": 9,
   "metadata": {},
   "outputs": [
    {
     "data": {
      "text/plain": [
       "{0, 1}"
      ]
     },
     "execution_count": 9,
     "metadata": {},
     "output_type": "execute_result"
    }
   ],
   "source": [
    "set(list(data_train['customer_category']))"
   ]
  },
  {
   "cell_type": "code",
   "execution_count": 10,
   "metadata": {},
   "outputs": [
    {
     "data": {
      "text/plain": [
       "Index(['customer_id', 'customer_visit_score', 'customer_product_search_score',\n",
       "       'customer_ctr_score', 'customer_stay_score', 'customer_frequency_score',\n",
       "       'customer_product_variation_score', 'customer_order_score',\n",
       "       'customer_affinity_score', 'customer_active_segment', 'X1'],\n",
       "      dtype='object')"
      ]
     },
     "execution_count": 10,
     "metadata": {},
     "output_type": "execute_result"
    }
   ],
   "source": [
    "data_test.fillna(0,inplace=True)\n",
    "data_test.columns"
   ]
  },
  {
   "cell_type": "code",
   "execution_count": 11,
   "metadata": {},
   "outputs": [],
   "source": [
    "data_train.drop(['customer_id'],axis=1,inplace=True)\n",
    "data_test.drop(['customer_id'],axis=1,inplace=True)\n",
    "#data_train['deltad']=pd.to_datetime(data_train['instock_date'])\n",
    "#data_test['deltad']=pd.to_datetime(data_test['instock_date'])"
   ]
  },
  {
   "cell_type": "code",
   "execution_count": 12,
   "metadata": {},
   "outputs": [
    {
     "data": {
      "text/html": [
       "<div>\n",
       "<style scoped>\n",
       "    .dataframe tbody tr th:only-of-type {\n",
       "        vertical-align: middle;\n",
       "    }\n",
       "\n",
       "    .dataframe tbody tr th {\n",
       "        vertical-align: top;\n",
       "    }\n",
       "\n",
       "    .dataframe thead th {\n",
       "        text-align: right;\n",
       "    }\n",
       "</style>\n",
       "<table border=\"1\" class=\"dataframe\">\n",
       "  <thead>\n",
       "    <tr style=\"text-align: right;\">\n",
       "      <th></th>\n",
       "      <th>customer_visit_score</th>\n",
       "      <th>customer_product_search_score</th>\n",
       "      <th>customer_ctr_score</th>\n",
       "      <th>customer_stay_score</th>\n",
       "      <th>customer_frequency_score</th>\n",
       "      <th>customer_product_variation_score</th>\n",
       "      <th>customer_order_score</th>\n",
       "      <th>customer_affinity_score</th>\n",
       "      <th>customer_active_segment</th>\n",
       "      <th>X1</th>\n",
       "      <th>customer_category</th>\n",
       "    </tr>\n",
       "  </thead>\n",
       "  <tbody>\n",
       "    <tr>\n",
       "      <th>0</th>\n",
       "      <td>13.168425</td>\n",
       "      <td>9.447662</td>\n",
       "      <td>-0.070203</td>\n",
       "      <td>-0.139541</td>\n",
       "      <td>0.436956</td>\n",
       "      <td>4.705761</td>\n",
       "      <td>2.537985</td>\n",
       "      <td>7.959503</td>\n",
       "      <td>C</td>\n",
       "      <td>F</td>\n",
       "      <td>0</td>\n",
       "    </tr>\n",
       "    <tr>\n",
       "      <th>1</th>\n",
       "      <td>17.092979</td>\n",
       "      <td>7.329056</td>\n",
       "      <td>0.153298</td>\n",
       "      <td>-0.102726</td>\n",
       "      <td>0.380340</td>\n",
       "      <td>4.205138</td>\n",
       "      <td>4.193444</td>\n",
       "      <td>17.517381</td>\n",
       "      <td>C</td>\n",
       "      <td>A</td>\n",
       "      <td>0</td>\n",
       "    </tr>\n",
       "    <tr>\n",
       "      <th>2</th>\n",
       "      <td>17.505334</td>\n",
       "      <td>5.143676</td>\n",
       "      <td>0.106709</td>\n",
       "      <td>0.262834</td>\n",
       "      <td>0.417648</td>\n",
       "      <td>4.479070</td>\n",
       "      <td>3.878971</td>\n",
       "      <td>12.595155</td>\n",
       "      <td>C</td>\n",
       "      <td>BA</td>\n",
       "      <td>0</td>\n",
       "    </tr>\n",
       "    <tr>\n",
       "      <th>3</th>\n",
       "      <td>31.423381</td>\n",
       "      <td>4.917740</td>\n",
       "      <td>-0.020226</td>\n",
       "      <td>-0.100526</td>\n",
       "      <td>0.778130</td>\n",
       "      <td>5.055535</td>\n",
       "      <td>2.708940</td>\n",
       "      <td>4.795073</td>\n",
       "      <td>AA</td>\n",
       "      <td>F</td>\n",
       "      <td>0</td>\n",
       "    </tr>\n",
       "    <tr>\n",
       "      <th>4</th>\n",
       "      <td>11.909502</td>\n",
       "      <td>4.237073</td>\n",
       "      <td>0.187178</td>\n",
       "      <td>0.172891</td>\n",
       "      <td>0.162067</td>\n",
       "      <td>3.445247</td>\n",
       "      <td>3.677360</td>\n",
       "      <td>56.636326</td>\n",
       "      <td>C</td>\n",
       "      <td>AA</td>\n",
       "      <td>0</td>\n",
       "    </tr>\n",
       "  </tbody>\n",
       "</table>\n",
       "</div>"
      ],
      "text/plain": [
       "   customer_visit_score  customer_product_search_score  customer_ctr_score  \\\n",
       "0             13.168425                       9.447662           -0.070203   \n",
       "1             17.092979                       7.329056            0.153298   \n",
       "2             17.505334                       5.143676            0.106709   \n",
       "3             31.423381                       4.917740           -0.020226   \n",
       "4             11.909502                       4.237073            0.187178   \n",
       "\n",
       "   customer_stay_score  customer_frequency_score  \\\n",
       "0            -0.139541                  0.436956   \n",
       "1            -0.102726                  0.380340   \n",
       "2             0.262834                  0.417648   \n",
       "3            -0.100526                  0.778130   \n",
       "4             0.172891                  0.162067   \n",
       "\n",
       "   customer_product_variation_score  customer_order_score  \\\n",
       "0                          4.705761              2.537985   \n",
       "1                          4.205138              4.193444   \n",
       "2                          4.479070              3.878971   \n",
       "3                          5.055535              2.708940   \n",
       "4                          3.445247              3.677360   \n",
       "\n",
       "   customer_affinity_score customer_active_segment  X1  customer_category  \n",
       "0                 7.959503                       C   F                  0  \n",
       "1                17.517381                       C   A                  0  \n",
       "2                12.595155                       C  BA                  0  \n",
       "3                 4.795073                      AA   F                  0  \n",
       "4                56.636326                       C  AA                  0  "
      ]
     },
     "execution_count": 12,
     "metadata": {},
     "output_type": "execute_result"
    }
   ],
   "source": [
    "data_train.head()"
   ]
  },
  {
   "cell_type": "code",
   "execution_count": 13,
   "metadata": {},
   "outputs": [
    {
     "name": "stdout",
     "output_type": "stream",
     "text": [
      "customer_visit_score 10738\n",
      "customer_product_search_score 10697\n",
      "customer_ctr_score 10738\n",
      "customer_stay_score 10702\n",
      "customer_frequency_score 10738\n",
      "customer_product_variation_score 10693\n",
      "customer_order_score 10673\n",
      "customer_affinity_score 10738\n",
      "customer_active_segment 6\n",
      "X1 6\n",
      "customer_category 2\n"
     ]
    }
   ],
   "source": [
    "for i in data_train.columns:\n",
    "    print(i,len(set(list(data_train[i]))))"
   ]
  },
  {
   "cell_type": "code",
   "execution_count": 14,
   "metadata": {},
   "outputs": [
    {
     "name": "stdout",
     "output_type": "stream",
     "text": [
      "customer_visit_score 7160\n",
      "customer_product_search_score 7132\n",
      "customer_ctr_score 7160\n",
      "customer_stay_score 7145\n",
      "customer_frequency_score 7160\n",
      "customer_product_variation_score 7118\n",
      "customer_order_score 7120\n",
      "customer_affinity_score 7160\n",
      "customer_active_segment 6\n",
      "X1 6\n"
     ]
    }
   ],
   "source": [
    "for i in data_test.columns:\n",
    "    print(i,len(set(list(data_test[i]))))"
   ]
  },
  {
   "cell_type": "code",
   "execution_count": 15,
   "metadata": {},
   "outputs": [],
   "source": [
    "rtrain_x=pd.get_dummies(data_train,columns=['customer_active_segment','X1'])\n",
    "rtest=pd.get_dummies(data_test,columns=['customer_active_segment','X1'])\n",
    "rtrain_x.drop(['customer_category'],axis=1,inplace=True)\n",
    "rtrain_y=data_train['customer_category']"
   ]
  },
  {
   "cell_type": "code",
   "execution_count": 16,
   "metadata": {},
   "outputs": [
    {
     "data": {
      "text/html": [
       "<div>\n",
       "<style scoped>\n",
       "    .dataframe tbody tr th:only-of-type {\n",
       "        vertical-align: middle;\n",
       "    }\n",
       "\n",
       "    .dataframe tbody tr th {\n",
       "        vertical-align: top;\n",
       "    }\n",
       "\n",
       "    .dataframe thead th {\n",
       "        text-align: right;\n",
       "    }\n",
       "</style>\n",
       "<table border=\"1\" class=\"dataframe\">\n",
       "  <thead>\n",
       "    <tr style=\"text-align: right;\">\n",
       "      <th></th>\n",
       "      <th>customer_visit_score</th>\n",
       "      <th>customer_product_search_score</th>\n",
       "      <th>customer_ctr_score</th>\n",
       "      <th>customer_stay_score</th>\n",
       "      <th>customer_frequency_score</th>\n",
       "      <th>customer_product_variation_score</th>\n",
       "      <th>customer_order_score</th>\n",
       "      <th>customer_affinity_score</th>\n",
       "      <th>customer_active_segment_0</th>\n",
       "      <th>customer_active_segment_A</th>\n",
       "      <th>customer_active_segment_AA</th>\n",
       "      <th>customer_active_segment_B</th>\n",
       "      <th>customer_active_segment_C</th>\n",
       "      <th>customer_active_segment_D</th>\n",
       "      <th>X1_0</th>\n",
       "      <th>X1_A</th>\n",
       "      <th>X1_AA</th>\n",
       "      <th>X1_BA</th>\n",
       "      <th>X1_E</th>\n",
       "      <th>X1_F</th>\n",
       "    </tr>\n",
       "  </thead>\n",
       "  <tbody>\n",
       "    <tr>\n",
       "      <th>0</th>\n",
       "      <td>13.168425</td>\n",
       "      <td>9.447662</td>\n",
       "      <td>-0.070203</td>\n",
       "      <td>-0.139541</td>\n",
       "      <td>0.436956</td>\n",
       "      <td>4.705761</td>\n",
       "      <td>2.537985</td>\n",
       "      <td>7.959503</td>\n",
       "      <td>0</td>\n",
       "      <td>0</td>\n",
       "      <td>0</td>\n",
       "      <td>0</td>\n",
       "      <td>1</td>\n",
       "      <td>0</td>\n",
       "      <td>0</td>\n",
       "      <td>0</td>\n",
       "      <td>0</td>\n",
       "      <td>0</td>\n",
       "      <td>0</td>\n",
       "      <td>1</td>\n",
       "    </tr>\n",
       "    <tr>\n",
       "      <th>1</th>\n",
       "      <td>17.092979</td>\n",
       "      <td>7.329056</td>\n",
       "      <td>0.153298</td>\n",
       "      <td>-0.102726</td>\n",
       "      <td>0.380340</td>\n",
       "      <td>4.205138</td>\n",
       "      <td>4.193444</td>\n",
       "      <td>17.517381</td>\n",
       "      <td>0</td>\n",
       "      <td>0</td>\n",
       "      <td>0</td>\n",
       "      <td>0</td>\n",
       "      <td>1</td>\n",
       "      <td>0</td>\n",
       "      <td>0</td>\n",
       "      <td>1</td>\n",
       "      <td>0</td>\n",
       "      <td>0</td>\n",
       "      <td>0</td>\n",
       "      <td>0</td>\n",
       "    </tr>\n",
       "    <tr>\n",
       "      <th>2</th>\n",
       "      <td>17.505334</td>\n",
       "      <td>5.143676</td>\n",
       "      <td>0.106709</td>\n",
       "      <td>0.262834</td>\n",
       "      <td>0.417648</td>\n",
       "      <td>4.479070</td>\n",
       "      <td>3.878971</td>\n",
       "      <td>12.595155</td>\n",
       "      <td>0</td>\n",
       "      <td>0</td>\n",
       "      <td>0</td>\n",
       "      <td>0</td>\n",
       "      <td>1</td>\n",
       "      <td>0</td>\n",
       "      <td>0</td>\n",
       "      <td>0</td>\n",
       "      <td>0</td>\n",
       "      <td>1</td>\n",
       "      <td>0</td>\n",
       "      <td>0</td>\n",
       "    </tr>\n",
       "    <tr>\n",
       "      <th>3</th>\n",
       "      <td>31.423381</td>\n",
       "      <td>4.917740</td>\n",
       "      <td>-0.020226</td>\n",
       "      <td>-0.100526</td>\n",
       "      <td>0.778130</td>\n",
       "      <td>5.055535</td>\n",
       "      <td>2.708940</td>\n",
       "      <td>4.795073</td>\n",
       "      <td>0</td>\n",
       "      <td>0</td>\n",
       "      <td>1</td>\n",
       "      <td>0</td>\n",
       "      <td>0</td>\n",
       "      <td>0</td>\n",
       "      <td>0</td>\n",
       "      <td>0</td>\n",
       "      <td>0</td>\n",
       "      <td>0</td>\n",
       "      <td>0</td>\n",
       "      <td>1</td>\n",
       "    </tr>\n",
       "    <tr>\n",
       "      <th>4</th>\n",
       "      <td>11.909502</td>\n",
       "      <td>4.237073</td>\n",
       "      <td>0.187178</td>\n",
       "      <td>0.172891</td>\n",
       "      <td>0.162067</td>\n",
       "      <td>3.445247</td>\n",
       "      <td>3.677360</td>\n",
       "      <td>56.636326</td>\n",
       "      <td>0</td>\n",
       "      <td>0</td>\n",
       "      <td>0</td>\n",
       "      <td>0</td>\n",
       "      <td>1</td>\n",
       "      <td>0</td>\n",
       "      <td>0</td>\n",
       "      <td>0</td>\n",
       "      <td>1</td>\n",
       "      <td>0</td>\n",
       "      <td>0</td>\n",
       "      <td>0</td>\n",
       "    </tr>\n",
       "    <tr>\n",
       "      <th>...</th>\n",
       "      <td>...</td>\n",
       "      <td>...</td>\n",
       "      <td>...</td>\n",
       "      <td>...</td>\n",
       "      <td>...</td>\n",
       "      <td>...</td>\n",
       "      <td>...</td>\n",
       "      <td>...</td>\n",
       "      <td>...</td>\n",
       "      <td>...</td>\n",
       "      <td>...</td>\n",
       "      <td>...</td>\n",
       "      <td>...</td>\n",
       "      <td>...</td>\n",
       "      <td>...</td>\n",
       "      <td>...</td>\n",
       "      <td>...</td>\n",
       "      <td>...</td>\n",
       "      <td>...</td>\n",
       "      <td>...</td>\n",
       "    </tr>\n",
       "    <tr>\n",
       "      <th>10733</th>\n",
       "      <td>23.672615</td>\n",
       "      <td>6.701514</td>\n",
       "      <td>0.092879</td>\n",
       "      <td>-0.017332</td>\n",
       "      <td>1.210397</td>\n",
       "      <td>7.003663</td>\n",
       "      <td>3.027084</td>\n",
       "      <td>1.952911</td>\n",
       "      <td>0</td>\n",
       "      <td>0</td>\n",
       "      <td>0</td>\n",
       "      <td>0</td>\n",
       "      <td>1</td>\n",
       "      <td>0</td>\n",
       "      <td>0</td>\n",
       "      <td>0</td>\n",
       "      <td>0</td>\n",
       "      <td>1</td>\n",
       "      <td>0</td>\n",
       "      <td>0</td>\n",
       "    </tr>\n",
       "    <tr>\n",
       "      <th>10734</th>\n",
       "      <td>25.673028</td>\n",
       "      <td>6.497796</td>\n",
       "      <td>0.050216</td>\n",
       "      <td>-0.047211</td>\n",
       "      <td>0.725230</td>\n",
       "      <td>5.407507</td>\n",
       "      <td>3.104172</td>\n",
       "      <td>5.124286</td>\n",
       "      <td>0</td>\n",
       "      <td>0</td>\n",
       "      <td>0</td>\n",
       "      <td>0</td>\n",
       "      <td>1</td>\n",
       "      <td>0</td>\n",
       "      <td>0</td>\n",
       "      <td>0</td>\n",
       "      <td>0</td>\n",
       "      <td>1</td>\n",
       "      <td>0</td>\n",
       "      <td>0</td>\n",
       "    </tr>\n",
       "    <tr>\n",
       "      <th>10735</th>\n",
       "      <td>31.676844</td>\n",
       "      <td>7.799880</td>\n",
       "      <td>0.062961</td>\n",
       "      <td>-0.032765</td>\n",
       "      <td>0.318118</td>\n",
       "      <td>5.598486</td>\n",
       "      <td>2.403051</td>\n",
       "      <td>21.864188</td>\n",
       "      <td>0</td>\n",
       "      <td>1</td>\n",
       "      <td>0</td>\n",
       "      <td>0</td>\n",
       "      <td>0</td>\n",
       "      <td>0</td>\n",
       "      <td>0</td>\n",
       "      <td>0</td>\n",
       "      <td>0</td>\n",
       "      <td>1</td>\n",
       "      <td>0</td>\n",
       "      <td>0</td>\n",
       "    </tr>\n",
       "    <tr>\n",
       "      <th>10736</th>\n",
       "      <td>28.441780</td>\n",
       "      <td>5.588302</td>\n",
       "      <td>-0.093931</td>\n",
       "      <td>0.081586</td>\n",
       "      <td>0.132177</td>\n",
       "      <td>3.616492</td>\n",
       "      <td>4.972243</td>\n",
       "      <td>86.969977</td>\n",
       "      <td>0</td>\n",
       "      <td>0</td>\n",
       "      <td>0</td>\n",
       "      <td>1</td>\n",
       "      <td>0</td>\n",
       "      <td>0</td>\n",
       "      <td>0</td>\n",
       "      <td>0</td>\n",
       "      <td>1</td>\n",
       "      <td>0</td>\n",
       "      <td>0</td>\n",
       "      <td>0</td>\n",
       "    </tr>\n",
       "    <tr>\n",
       "      <th>10737</th>\n",
       "      <td>20.663035</td>\n",
       "      <td>4.478301</td>\n",
       "      <td>0.253165</td>\n",
       "      <td>0.381349</td>\n",
       "      <td>0.504904</td>\n",
       "      <td>4.181092</td>\n",
       "      <td>4.469215</td>\n",
       "      <td>27.770899</td>\n",
       "      <td>0</td>\n",
       "      <td>0</td>\n",
       "      <td>0</td>\n",
       "      <td>1</td>\n",
       "      <td>0</td>\n",
       "      <td>0</td>\n",
       "      <td>0</td>\n",
       "      <td>1</td>\n",
       "      <td>0</td>\n",
       "      <td>0</td>\n",
       "      <td>0</td>\n",
       "      <td>0</td>\n",
       "    </tr>\n",
       "  </tbody>\n",
       "</table>\n",
       "<p>10738 rows × 20 columns</p>\n",
       "</div>"
      ],
      "text/plain": [
       "       customer_visit_score  customer_product_search_score  \\\n",
       "0                 13.168425                       9.447662   \n",
       "1                 17.092979                       7.329056   \n",
       "2                 17.505334                       5.143676   \n",
       "3                 31.423381                       4.917740   \n",
       "4                 11.909502                       4.237073   \n",
       "...                     ...                            ...   \n",
       "10733             23.672615                       6.701514   \n",
       "10734             25.673028                       6.497796   \n",
       "10735             31.676844                       7.799880   \n",
       "10736             28.441780                       5.588302   \n",
       "10737             20.663035                       4.478301   \n",
       "\n",
       "       customer_ctr_score  customer_stay_score  customer_frequency_score  \\\n",
       "0               -0.070203            -0.139541                  0.436956   \n",
       "1                0.153298            -0.102726                  0.380340   \n",
       "2                0.106709             0.262834                  0.417648   \n",
       "3               -0.020226            -0.100526                  0.778130   \n",
       "4                0.187178             0.172891                  0.162067   \n",
       "...                   ...                  ...                       ...   \n",
       "10733            0.092879            -0.017332                  1.210397   \n",
       "10734            0.050216            -0.047211                  0.725230   \n",
       "10735            0.062961            -0.032765                  0.318118   \n",
       "10736           -0.093931             0.081586                  0.132177   \n",
       "10737            0.253165             0.381349                  0.504904   \n",
       "\n",
       "       customer_product_variation_score  customer_order_score  \\\n",
       "0                              4.705761              2.537985   \n",
       "1                              4.205138              4.193444   \n",
       "2                              4.479070              3.878971   \n",
       "3                              5.055535              2.708940   \n",
       "4                              3.445247              3.677360   \n",
       "...                                 ...                   ...   \n",
       "10733                          7.003663              3.027084   \n",
       "10734                          5.407507              3.104172   \n",
       "10735                          5.598486              2.403051   \n",
       "10736                          3.616492              4.972243   \n",
       "10737                          4.181092              4.469215   \n",
       "\n",
       "       customer_affinity_score  customer_active_segment_0  \\\n",
       "0                     7.959503                          0   \n",
       "1                    17.517381                          0   \n",
       "2                    12.595155                          0   \n",
       "3                     4.795073                          0   \n",
       "4                    56.636326                          0   \n",
       "...                        ...                        ...   \n",
       "10733                 1.952911                          0   \n",
       "10734                 5.124286                          0   \n",
       "10735                21.864188                          0   \n",
       "10736                86.969977                          0   \n",
       "10737                27.770899                          0   \n",
       "\n",
       "       customer_active_segment_A  customer_active_segment_AA  \\\n",
       "0                              0                           0   \n",
       "1                              0                           0   \n",
       "2                              0                           0   \n",
       "3                              0                           1   \n",
       "4                              0                           0   \n",
       "...                          ...                         ...   \n",
       "10733                          0                           0   \n",
       "10734                          0                           0   \n",
       "10735                          1                           0   \n",
       "10736                          0                           0   \n",
       "10737                          0                           0   \n",
       "\n",
       "       customer_active_segment_B  customer_active_segment_C  \\\n",
       "0                              0                          1   \n",
       "1                              0                          1   \n",
       "2                              0                          1   \n",
       "3                              0                          0   \n",
       "4                              0                          1   \n",
       "...                          ...                        ...   \n",
       "10733                          0                          1   \n",
       "10734                          0                          1   \n",
       "10735                          0                          0   \n",
       "10736                          1                          0   \n",
       "10737                          1                          0   \n",
       "\n",
       "       customer_active_segment_D  X1_0  X1_A  X1_AA  X1_BA  X1_E  X1_F  \n",
       "0                              0     0     0      0      0     0     1  \n",
       "1                              0     0     1      0      0     0     0  \n",
       "2                              0     0     0      0      1     0     0  \n",
       "3                              0     0     0      0      0     0     1  \n",
       "4                              0     0     0      1      0     0     0  \n",
       "...                          ...   ...   ...    ...    ...   ...   ...  \n",
       "10733                          0     0     0      0      1     0     0  \n",
       "10734                          0     0     0      0      1     0     0  \n",
       "10735                          0     0     0      0      1     0     0  \n",
       "10736                          0     0     0      1      0     0     0  \n",
       "10737                          0     0     1      0      0     0     0  \n",
       "\n",
       "[10738 rows x 20 columns]"
      ]
     },
     "execution_count": 16,
     "metadata": {},
     "output_type": "execute_result"
    }
   ],
   "source": [
    "rtrain_x"
   ]
  },
  {
   "cell_type": "code",
   "execution_count": 17,
   "metadata": {},
   "outputs": [],
   "source": [
    "for i in (rtest.columns):\n",
    "    try :\n",
    "        list(rtrain_x.columns).index(i)\n",
    "    except:\n",
    "        print(i)"
   ]
  },
  {
   "cell_type": "code",
   "execution_count": 18,
   "metadata": {},
   "outputs": [],
   "source": [
    "from sklearn.preprocessing import PolynomialFeatures\n",
    "poly = PolynomialFeatures(degree=2)\n",
    "rtrain_xp=  poly.fit_transform(rtrain_x)\n",
    "rtestp=poly.transform(rtest)"
   ]
  },
  {
   "cell_type": "code",
   "execution_count": 19,
   "metadata": {},
   "outputs": [
    {
     "data": {
      "text/plain": [
       "(10738, 231)"
      ]
     },
     "execution_count": 19,
     "metadata": {},
     "output_type": "execute_result"
    }
   ],
   "source": [
    "rtrain_xp.shape"
   ]
  },
  {
   "cell_type": "code",
   "execution_count": 20,
   "metadata": {},
   "outputs": [
    {
     "data": {
      "text/plain": [
       "'==========================================='"
      ]
     },
     "execution_count": 20,
     "metadata": {},
     "output_type": "execute_result"
    }
   ],
   "source": [
    "from sklearn.model_selection import train_test_split\n",
    "xtrbs,xtebs,ytr,yte=train_test_split(rtrain_xp,rtrain_y,train_size=0.7)\n",
    "'''======================================'''\n",
    "from sklearn.preprocessing import MinMaxScaler\n",
    "scaler = MinMaxScaler()\n",
    "xtr = scaler.fit_transform(xtrbs)\n",
    "xte = scaler.fit_transform(xtebs)\n",
    "rtestpp=scaler.fit_transform(rtestp)\n",
    "'''==========================================='''\n",
    "\n",
    "'''==========================================='''"
   ]
  },
  {
   "cell_type": "code",
   "execution_count": 21,
   "metadata": {},
   "outputs": [
    {
     "data": {
      "text/plain": [
       "0.9664804469273743"
      ]
     },
     "execution_count": 21,
     "metadata": {},
     "output_type": "execute_result"
    }
   ],
   "source": [
    "from sklearn.neighbors import KNeighborsClassifier as knc\n",
    "#knc?\n",
    "model=knc(n_neighbors=3).fit(xtr,ytr)\n",
    "#model.score(\n",
    "ypre=model.predict(xte)\n",
    "\n",
    "#            ,yte)\n",
    "model.score(xte,yte)"
   ]
  },
  {
   "cell_type": "code",
   "execution_count": 33,
   "metadata": {},
   "outputs": [
    {
     "ename": "TypeError",
     "evalue": "fit() missing 1 required positional argument: 'y'",
     "output_type": "error",
     "traceback": [
      "\u001b[1;31m---------------------------------------------------------------------------\u001b[0m",
      "\u001b[1;31mTypeError\u001b[0m                                 Traceback (most recent call last)",
      "\u001b[1;32m<ipython-input-33-75c1d96ad57a>\u001b[0m in \u001b[0;36m<module>\u001b[1;34m\u001b[0m\n\u001b[0;32m      1\u001b[0m \u001b[1;32mfrom\u001b[0m \u001b[0msklearn\u001b[0m\u001b[1;33m.\u001b[0m\u001b[0mneighbors\u001b[0m \u001b[1;32mimport\u001b[0m \u001b[0mKNeighborsClassifier\u001b[0m \u001b[1;32mas\u001b[0m \u001b[0mknc\u001b[0m\u001b[1;33m\u001b[0m\u001b[1;33m\u001b[0m\u001b[0m\n\u001b[0;32m      2\u001b[0m \u001b[1;33m\u001b[0m\u001b[0m\n\u001b[1;32m----> 3\u001b[1;33m \u001b[0mmodel\u001b[0m\u001b[1;33m=\u001b[0m\u001b[0mknc\u001b[0m\u001b[1;33m.\u001b[0m\u001b[0mfit\u001b[0m\u001b[1;33m(\u001b[0m\u001b[0mxtr\u001b[0m\u001b[1;33m,\u001b[0m\u001b[0mytr\u001b[0m\u001b[1;33m)\u001b[0m\u001b[1;33m\u001b[0m\u001b[1;33m\u001b[0m\u001b[0m\n\u001b[0m\u001b[0;32m      4\u001b[0m \u001b[1;33m\u001b[0m\u001b[0m\n\u001b[0;32m      5\u001b[0m \u001b[0mthis_C\u001b[0m \u001b[1;33m=\u001b[0m \u001b[1;36m1.0\u001b[0m\u001b[1;33m\u001b[0m\u001b[1;33m\u001b[0m\u001b[0m\n",
      "\u001b[1;31mTypeError\u001b[0m: fit() missing 1 required positional argument: 'y'"
     ]
    }
   ],
   "source": [
    "this_C = 1.0\n",
    "from sklearn.svm import SVC\n",
    "#clf = SVC(kernel = 'linear', C=this_C).fit(X_train, y_train)\n",
    "\n",
    "\n",
    "from sklearn.tree import DecisionTreeClassifier as dtc\n",
    "\n",
    "\n",
    "\n",
    "\n",
    "from sklearn.neural_network import MLPClassifier as mlpc\n",
    "#nnclf = MLPClassifier(hidden_layer_sizes = [units], solver='lbfgs',\n",
    "                         #random_state = 0).fit(X_train, y_train)"
   ]
  },
  {
   "cell_type": "code",
   "execution_count": 59,
   "metadata": {},
   "outputs": [
    {
     "name": "stdout",
     "output_type": "stream",
     "text": [
      "0.7446293822186018 0.7447671925366688 0.0\n",
      "-3.998408409140706e+22 0.6154260522241777 -0.0003739932278821189\n"
     ]
    }
   ],
   "source": [
    "#from sklearn.neighbors import KNeighborsRegressor\n",
    "model = crmode()\n",
    "model.fit(xtr,ytr)\n",
    "\n",
    "#svm_predicted = model.predict(xte)\n",
    "#from sklearn.metrics import confusion_matrix\n",
    "#knnreg = KNeighborsRegressor(n_neighbors = 150).fit(xtr, ytr)\n",
    "#confusion = confusion_matrix(yte, svm_predicted)\n",
    "#confusion\n",
    "from sklearn.linear_model import Ridge\n",
    "linridge = Ridge(alpha=0.01).fit(xtr, ytr)\n",
    "'''=================================='''\n",
    "from sklearn.linear_model import Lasso\n",
    "\n",
    "linlasso = Lasso(alpha=1, max_iter = 10000).fit(xtr, ytr)\n",
    "\n",
    "print(model.score(xtr,ytr),linridge.score(xtr,ytr),linlasso.score(xtr,ytr))\n",
    "print(model.score(xte,yte),linridge.score(xte,yte),linlasso.score(xte,yte))"
   ]
  },
  {
   "cell_type": "code",
   "execution_count": 23,
   "metadata": {},
   "outputs": [],
   "source": [
    "from xgboost import XGBClassifier\n",
    "classifier = XGBClassifier()\n",
    "classifier.fit(xtr, ytr)\n",
    "\n",
    "y_pred = classifier.predict(xte)\n"
   ]
  },
  {
   "cell_type": "code",
   "execution_count": 49,
   "metadata": {},
   "outputs": [
    {
     "data": {
      "text/plain": [
       "0.973618870266915"
      ]
     },
     "execution_count": 49,
     "metadata": {},
     "output_type": "execute_result"
    }
   ],
   "source": [
    "classifier.score(xte,yte)"
   ]
  },
  {
   "cell_type": "code",
   "execution_count": 41,
   "metadata": {},
   "outputs": [
    {
     "data": {
      "text/plain": [
       "(7160, 231)"
      ]
     },
     "execution_count": 41,
     "metadata": {},
     "output_type": "execute_result"
    }
   ],
   "source": [
    "rtestpp.shape"
   ]
  },
  {
   "cell_type": "code",
   "execution_count": 29,
   "metadata": {},
   "outputs": [
    {
     "data": {
      "text/plain": [
       "Index(['customer_id', 'customer_visit_score', 'customer_product_search_score',\n",
       "       'customer_ctr_score', 'customer_stay_score', 'customer_frequency_score',\n",
       "       'customer_product_variation_score', 'customer_order_score',\n",
       "       'customer_affinity_score', 'customer_active_segment', 'X1'],\n",
       "      dtype='object')"
      ]
     },
     "execution_count": 29,
     "metadata": {},
     "output_type": "execute_result"
    }
   ],
   "source": [
    "fd=pd.read_csv('test.csv')\n",
    "fd.columns"
   ]
  },
  {
   "cell_type": "code",
   "execution_count": 30,
   "metadata": {},
   "outputs": [],
   "source": [
    "fd.drop(['customer_visit_score', 'customer_product_search_score',\n",
    "       'customer_ctr_score', 'customer_stay_score', 'customer_frequency_score',\n",
    "       'customer_product_variation_score', 'customer_order_score',\n",
    "       'customer_affinity_score', 'customer_active_segment', 'X1'],axis=1,inplace=True)"
   ]
  },
  {
   "cell_type": "code",
   "execution_count": 31,
   "metadata": {},
   "outputs": [],
   "source": [
    "fd['Selling_Price']=abs(model.predict(rtestpp))\n",
    "fd['customer_category']=11\n",
    "fd.loc[fd.Selling_Price==1,['customer_category']]=22\n",
    "fd.drop(['Selling_Price'],axis=1,inplace=True)"
   ]
  },
  {
   "cell_type": "code",
   "execution_count": 33,
   "metadata": {},
   "outputs": [],
   "source": [
    "#compression_opts = dict(method='zip',archive_name='processed_data.csv')  # doctest: +SKIP\n",
    "fd.to_csv('processed_data.csv', index=False)"
   ]
  },
  {
   "cell_type": "code",
   "execution_count": 78,
   "metadata": {},
   "outputs": [
    {
     "data": {
      "text/plain": [
       "(7160, 2)"
      ]
     },
     "execution_count": 78,
     "metadata": {},
     "output_type": "execute_result"
    }
   ],
   "source": [
    "pd.read_csv('processed_data.csv').shape"
   ]
  }
 ],
 "metadata": {
  "coursera": {
   "course_slug": "python-machine-learning",
   "graded_item_id": "nNS8l",
   "launcher_item_id": "yWWk7",
   "part_id": "w8BSS"
  },
  "kernelspec": {
   "display_name": "Python 3",
   "language": "python",
   "name": "python3"
  },
  "language_info": {
   "codemirror_mode": {
    "name": "ipython",
    "version": 3
   },
   "file_extension": ".py",
   "mimetype": "text/x-python",
   "name": "python",
   "nbconvert_exporter": "python",
   "pygments_lexer": "ipython3",
   "version": "3.8.5"
  }
 },
 "nbformat": 4,
 "nbformat_minor": 2
}
